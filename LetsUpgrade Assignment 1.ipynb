{
 "cells": [
  {
   "cell_type": "markdown",
   "id": "53708354",
   "metadata": {},
   "source": [
    "# Title: \"Student Grading Program\"\n",
    "\n",
    "\n",
    "\n",
    "# Description:\n",
    "\n",
    "# You are tasked with creating a simple student grading program using Python. The program should take input from the user for the marks obtained by a student in a subject and then calculate and display the grade based on the following grading scale:\n",
    "\n",
    "\n",
    "\n",
    "# 90 or above: A+\n",
    "\n",
    "# 80 to 89: A\n",
    "\n",
    "# 70 to 79: B\n",
    "\n",
    "# 60 to 69: C\n",
    "\n",
    "# 50 to 59: D\n",
    "\n",
    "# Below 50: Fail\n",
    "\n",
    "# Requirements:\n",
    "\n",
    "# Use control statements (if-elif-else) to determine the grade based on the marks obtained by the student.\n",
    "\n",
    "# Handle any potential errors in the user input (e.g., invalid marks) and display appropriate messages to the user.\n",
    "\n",
    "# Implement a loop to allow the user to calculate the grade for multiple students until they decide to exit.\n",
    "\n",
    "# Display the calculated grade for each student."
   ]
  },
  {
   "cell_type": "code",
   "execution_count": 1,
   "id": "0150115c",
   "metadata": {},
   "outputs": [
    {
     "name": "stdout",
     "output_type": "stream",
     "text": [
      "Enter the marks obtained by the student: 76\n",
      "Grade: B\n",
      "Do you want to calculate the grade for another student? (yes/no): yes\n",
      "Enter the marks obtained by the student: 56\n",
      "Grade: D\n",
      "Do you want to calculate the grade for another student? (yes/no): yes\n",
      "Enter the marks obtained by the student: 34\n",
      "Grade: Fail\n",
      "Do you want to calculate the grade for another student? (yes/no): yes\n",
      "Enter the marks obtained by the student: 90\n",
      "Grade: A+\n",
      "Do you want to calculate the grade for another student? (yes/no): No\n"
     ]
    }
   ],
   "source": [
    "def calculate_grade(marks):\n",
    "    if marks >= 90:\n",
    "        return \"A+\"\n",
    "    elif marks >= 80:\n",
    "        return \"A\"\n",
    "    elif marks >= 70:\n",
    "        return \"B\"\n",
    "    elif marks >= 60:\n",
    "        return \"C\"\n",
    "    elif marks >= 50:\n",
    "        return \"D\"\n",
    "    else:\n",
    "        return \"Fail\"\n",
    "\n",
    "def get_valid_marks_input():\n",
    "    while True:\n",
    "        try:\n",
    "            marks = float(input(\"Enter the marks obtained by the student: \"))\n",
    "            if 0 <= marks <= 100:\n",
    "                return marks\n",
    "            else:\n",
    "                print(\"Invalid input! Marks should be between 0 and 100.\")\n",
    "        except ValueError:\n",
    "            print(\"Invalid input! Please enter a valid number.\")\n",
    "\n",
    "def main():\n",
    "    while True:\n",
    "        marks = get_valid_marks_input()\n",
    "        grade = calculate_grade(marks)\n",
    "        print(f\"Grade: {grade}\")\n",
    "\n",
    "        another_student = input(\"Do you want to calculate the grade for another student? (yes/no): \").lower()\n",
    "        if another_student != \"yes\":\n",
    "            break\n",
    "\n",
    "if __name__ == \"__main__\":\n",
    "    main()\n"
   ]
  },
  {
   "cell_type": "code",
   "execution_count": null,
   "id": "29c4b775",
   "metadata": {},
   "outputs": [],
   "source": []
  }
 ],
 "metadata": {
  "kernelspec": {
   "display_name": "Python 3 (ipykernel)",
   "language": "python",
   "name": "python3"
  },
  "language_info": {
   "codemirror_mode": {
    "name": "ipython",
    "version": 3
   },
   "file_extension": ".py",
   "mimetype": "text/x-python",
   "name": "python",
   "nbconvert_exporter": "python",
   "pygments_lexer": "ipython3",
   "version": "3.9.13"
  }
 },
 "nbformat": 4,
 "nbformat_minor": 5
}
